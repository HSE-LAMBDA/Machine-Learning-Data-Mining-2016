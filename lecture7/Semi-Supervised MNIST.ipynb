{
 "cells": [
  {
   "cell_type": "markdown",
   "metadata": {},
   "source": [
    "# Semi-supervised learning"
   ]
  },
  {
   "cell_type": "code",
   "execution_count": 1,
   "metadata": {
    "collapsed": false
   },
   "outputs": [
    {
     "name": "stdout",
     "output_type": "stream",
     "text": [
      "env: THEANO_FLAGS='device=gpu0','floatX=float32'\n"
     ]
    },
    {
     "name": "stderr",
     "output_type": "stream",
     "text": [
      "Using gpu device 0: GeForce GTX TITAN X (CNMeM is disabled, cuDNN 5005)\n"
     ]
    }
   ],
   "source": [
    "### change into configuration suitable for you\n",
    "%env THEANO_FLAGS='device=gpu0','floatX=float32'\n",
    "\n",
    "import os\n",
    "import os.path as osp\n",
    "\n",
    "import numpy as np\n",
    "\n",
    "import theano\n",
    "import theano.tensor as T\n",
    "import lasagne\n",
    "\n",
    "%matplotlib inline\n",
    "\n",
    "import matplotlib.pyplot as plt"
   ]
  },
  {
   "cell_type": "markdown",
   "metadata": {},
   "source": [
    "## Getting MNIST"
   ]
  },
  {
   "cell_type": "code",
   "execution_count": 2,
   "metadata": {
    "collapsed": false
   },
   "outputs": [],
   "source": [
    "%%sh\n",
    "\n",
    "wget -q -nc https://raw.githubusercontent.com/amitgroup/amitgroup/master/amitgroup/io/mnist.py"
   ]
  },
  {
   "cell_type": "code",
   "execution_count": 3,
   "metadata": {
    "collapsed": true
   },
   "outputs": [],
   "source": [
    "### http://g.sweyla.com/blog/2012/mnist-numpy/\n",
    "import mnist"
   ]
  },
  {
   "cell_type": "code",
   "execution_count": 4,
   "metadata": {
    "collapsed": false
   },
   "outputs": [
    {
     "name": "stderr",
     "output_type": "stream",
     "text": [
      "gzip: t10k-images-idx3-ubyte already exists;\tnot overwritten\n",
      "gzip: t10k-labels-idx1-ubyte already exists;\tnot overwritten\n",
      "gzip: train-images-idx3-ubyte already exists;\tnot overwritten\n",
      "gzip: train-labels-idx1-ubyte already exists;\tnot overwritten\n"
     ]
    }
   ],
   "source": [
    "%%sh\n",
    "\n",
    "mkdir -p mnist && {\n",
    "    cd mnist;\n",
    "    wget -q -nc http://yann.lecun.com/exdb/mnist/train-images-idx3-ubyte.gz &&\n",
    "    wget -q -nc http://yann.lecun.com/exdb/mnist/train-labels-idx1-ubyte.gz &&\n",
    "    wget -q -nc http://yann.lecun.com/exdb/mnist/t10k-images-idx3-ubyte.gz &&\n",
    "    wget -q -nc http://yann.lecun.com/exdb/mnist/t10k-labels-idx1-ubyte.gz &&\n",
    "    gunzip *.gz\n",
    "}"
   ]
  },
  {
   "cell_type": "code",
   "execution_count": 5,
   "metadata": {
    "collapsed": false
   },
   "outputs": [],
   "source": [
    "X, y = mnist.load_mnist(dataset='training', path='mnist/')\n",
    "X = X.reshape(-1, 1, 28, 28).astype('float32')\n",
    "\n",
    "X_test, y_test = mnist.load_mnist(dataset='testing', path='mnist/')\n",
    "X_test = X_test.reshape(-1, 1, 28, 28).astype('float32')"
   ]
  },
  {
   "cell_type": "markdown",
   "metadata": {},
   "source": [
    "In order to simulate semisupervised problem only a small fraction of training samples is left."
   ]
  },
  {
   "cell_type": "code",
   "execution_count": 45,
   "metadata": {
    "collapsed": true
   },
   "outputs": [],
   "source": [
    "from sklearn.cross_validation import train_test_split\n",
    "\n",
    "X_train, X_val, y_train, y_val = train_test_split(X, y, stratify=y, train_size=0.05)"
   ]
  },
  {
   "cell_type": "code",
   "execution_count": 46,
   "metadata": {
    "collapsed": false
   },
   "outputs": [
    {
     "data": {
      "text/plain": [
       "(3000, 1, 28, 28)"
      ]
     },
     "execution_count": 46,
     "metadata": {},
     "output_type": "execute_result"
    }
   ],
   "source": [
    "X_train.shape"
   ]
  },
  {
   "cell_type": "markdown",
   "metadata": {},
   "source": [
    "## Direct learning"
   ]
  },
  {
   "cell_type": "code",
   "execution_count": 54,
   "metadata": {
    "collapsed": true
   },
   "outputs": [],
   "source": [
    "from sklearn.linear_model import LogisticRegression"
   ]
  },
  {
   "cell_type": "code",
   "execution_count": 57,
   "metadata": {
    "collapsed": false
   },
   "outputs": [
    {
     "name": "stdout",
     "output_type": "stream",
     "text": [
      "7.4e+00: 0.878\n",
      "4.2e+00: 0.880\n",
      "2.4e+00: 0.882\n",
      "1.4e+00: 0.884\n",
      "8.0e-01: 0.886\n",
      "4.6e-01: 0.889\n",
      "2.6e-01: 0.891\n",
      "1.5e-01: 0.892\n",
      "8.7e-02: 0.893\n",
      "5.0e-02: 0.892\n"
     ]
    }
   ],
   "source": [
    "for C in 1.0 / np.exp(np.linspace(-2, 3, num=10)):\n",
    "    lr = LogisticRegression(C=C, solver='newton-cg', multi_class='multinomial')\n",
    "    lr.fit(X_train.reshape(-1, 28 * 28), y_train)\n",
    "\n",
    "    predicted = lr.predict(X_val.reshape(-1, 28 * 28))\n",
    "    print \"%.1e: %.3f\" % (C, np.mean(predicted == y_val))"
   ]
  },
  {
   "cell_type": "code",
   "execution_count": 58,
   "metadata": {
    "collapsed": false
   },
   "outputs": [
    {
     "data": {
      "text/plain": [
       "<ae.CAE at 0x7fbc38173a50>"
      ]
     },
     "execution_count": 58,
     "metadata": {},
     "output_type": "execute_result"
    }
   ],
   "source": [
    "from ae import CAE\n",
    "cae = CAE(n_codes=25)\n",
    "cae.load('CAE_25.npz')"
   ]
  },
  {
   "cell_type": "code",
   "execution_count": 59,
   "metadata": {
    "collapsed": false
   },
   "outputs": [
    {
     "name": "stdout",
     "output_type": "stream",
     "text": [
      "7.4e+00: 0.930\n",
      "4.2e+00: 0.930\n",
      "2.4e+00: 0.931\n",
      "1.4e+00: 0.932\n",
      "8.0e-01: 0.932\n",
      "4.6e-01: 0.932\n",
      "2.6e-01: 0.933\n",
      "1.5e-01: 0.932\n",
      "8.7e-02: 0.931\n",
      "5.0e-02: 0.929\n"
     ]
    }
   ],
   "source": [
    "for C in 1.0 / np.exp(np.linspace(-2, 3, num=10)):\n",
    "    lr = LogisticRegression(C=C, solver='newton-cg', multi_class='multinomial')\n",
    "    lr.fit(cae.encode(X_train), y_train)\n",
    "\n",
    "    predicted = lr.predict(cae.encode(X_val))\n",
    "    print \"%.1e: %.3f\" % (C, np.mean(predicted == y_val))"
   ]
  },
  {
   "cell_type": "code",
   "execution_count": 60,
   "metadata": {
    "collapsed": false
   },
   "outputs": [
    {
     "name": "stdout",
     "output_type": "stream",
     "text": [
      "8.7e-02: 0.898\n"
     ]
    }
   ],
   "source": [
    "C = 8.7e-02\n",
    "\n",
    "lr = LogisticRegression(C=C, solver='newton-cg', multi_class='multinomial')\n",
    "lr.fit(X_train.reshape(-1, 28 * 28), y_train)\n",
    "\n",
    "predicted = lr.predict(X_test.reshape(-1, 28 * 28))\n",
    "print \"%.1e: %.3f\" % (C, np.mean(predicted == y_test))"
   ]
  },
  {
   "cell_type": "code",
   "execution_count": 61,
   "metadata": {
    "collapsed": false
   },
   "outputs": [
    {
     "name": "stdout",
     "output_type": "stream",
     "text": [
      "8.7e-02: 0.938\n"
     ]
    }
   ],
   "source": [
    "lr = LogisticRegression(C=C, solver='newton-cg', multi_class='multinomial')\n",
    "lr.fit(cae.encode(X_train), y_train)\n",
    "\n",
    "predicted = lr.predict(cae.encode(X_test))\n",
    "print \"%.1e: %.3f\" % (C, np.mean(predicted == y_test))"
   ]
  },
  {
   "cell_type": "code",
   "execution_count": null,
   "metadata": {
    "collapsed": true
   },
   "outputs": [],
   "source": []
  }
 ],
 "metadata": {
  "kernelspec": {
   "display_name": "Python 2",
   "language": "python",
   "name": "python2"
  },
  "language_info": {
   "codemirror_mode": {
    "name": "ipython",
    "version": 2
   },
   "file_extension": ".py",
   "mimetype": "text/x-python",
   "name": "python",
   "nbconvert_exporter": "python",
   "pygments_lexer": "ipython2",
   "version": "2.7.12"
  }
 },
 "nbformat": 4,
 "nbformat_minor": 0
}
