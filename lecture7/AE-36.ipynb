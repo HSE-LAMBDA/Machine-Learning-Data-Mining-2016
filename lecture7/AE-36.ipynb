{
 "cells": [
  {
   "cell_type": "code",
   "execution_count": null,
   "metadata": {
    "collapsed": false
   },
   "outputs": [
    {
     "name": "stdout",
     "output_type": "stream",
     "text": [
      "env: THEANO_FLAGS='device=gpu1','floatX=float32'\n"
     ]
    }
   ],
   "source": [
    "%env THEANO_FLAGS='device=gpu1','floatX=float32'\n",
    "\n",
    "import os\n",
    "import os.path as osp\n",
    "\n",
    "import numpy as np\n",
    "\n",
    "import theano\n",
    "import theano.tensor as T\n",
    "from lasagne import *\n",
    "\n",
    "%matplotlib nbagg\n",
    "import matplotlib.pyplot as plt\n",
    "\n",
    "from mldm import Watcher, Net, CAE"
   ]
  },
  {
   "cell_type": "code",
   "execution_count": null,
   "metadata": {
    "collapsed": false
   },
   "outputs": [],
   "source": [
    "%%sh\n",
    "\n",
    "wget -q -nc https://raw.githubusercontent.com/amitgroup/amitgroup/master/amitgroup/io/mnist.py"
   ]
  },
  {
   "cell_type": "code",
   "execution_count": null,
   "metadata": {
    "collapsed": true
   },
   "outputs": [],
   "source": [
    "### http://g.sweyla.com/blog/2012/mnist-numpy/\n",
    "import mnist"
   ]
  },
  {
   "cell_type": "code",
   "execution_count": null,
   "metadata": {
    "collapsed": false
   },
   "outputs": [],
   "source": [
    "%%sh\n",
    "\n",
    "mkdir -p mnist && {\n",
    "    cd mnist;\n",
    "    wget -q -nc http://yann.lecun.com/exdb/mnist/train-images-idx3-ubyte.gz &&\n",
    "    wget -q -nc http://yann.lecun.com/exdb/mnist/train-labels-idx1-ubyte.gz &&\n",
    "    wget -q -nc http://yann.lecun.com/exdb/mnist/t10k-images-idx3-ubyte.gz &&\n",
    "    wget -q -nc http://yann.lecun.com/exdb/mnist/t10k-labels-idx1-ubyte.gz &&\n",
    "    gunzip *.gz\n",
    "}"
   ]
  },
  {
   "cell_type": "code",
   "execution_count": null,
   "metadata": {
    "collapsed": false
   },
   "outputs": [],
   "source": [
    "X, y = mnist.load_mnist(dataset='training', path='mnist/')\n",
    "X = X.reshape(-1, 1, 28, 28).astype('float32')\n",
    "\n",
    "X_test, y_test = mnist.load_mnist(dataset='testing', path='mnist/')\n",
    "X_test = X_test.reshape(-1, 1, 28, 28).astype('float32')"
   ]
  },
  {
   "cell_type": "code",
   "execution_count": null,
   "metadata": {
    "collapsed": false
   },
   "outputs": [],
   "source": [
    "cae = CAE(n_codes=36)"
   ]
  },
  {
   "cell_type": "code",
   "execution_count": null,
   "metadata": {
    "collapsed": false
   },
   "outputs": [],
   "source": [
    "PATH = \"CAE_%d.npz\" % cae.n_codes\n",
    "\n",
    "try:\n",
    "    cae.load(PATH)\n",
    "except Exception as e:\n",
    "    print e\n",
    "    print 'Failed to load network weights.'"
   ]
  },
  {
   "cell_type": "code",
   "execution_count": null,
   "metadata": {
    "collapsed": false
   },
   "outputs": [],
   "source": [
    "watcher = Watcher(epoches=128)\n",
    "ls = cae.fit(X, n_epoches=128, batch_size=2**9, loss='log', learning_rate=1.0, watcher=watcher)\n",
    "\n",
    "cae.save(PATH)"
   ]
  },
  {
   "cell_type": "code",
   "execution_count": null,
   "metadata": {
    "collapsed": false
   },
   "outputs": [],
   "source": [
    "import itertools\n",
    "n_codes_side = 6\n",
    "n_codes = 36\n",
    "\n",
    "nrows, ncols = 1, 9\n",
    "\n",
    "indx = np.random.choice(X_test.shape[0], size=ncols, replace=False)\n",
    "codes = cae.encode(X_test[indx])\n",
    "X_rec = cae.reconstruct(X_test[indx])\n",
    "\n",
    "fig, ax = plt.subplots(nrows * 3, ncols, figsize=(ncols * 2 , nrows * 6))\n",
    "\n",
    "for i, j in itertools.product(range(nrows), range(ncols)):\n",
    "    ax[i * 3, j].imshow(\n",
    "        X_test[indx[j], 0],\n",
    "        interpolation='None', cmap=plt.cm.gray_r, vmin=0.0, vmax=1.0\n",
    "    )\n",
    "    ax[i * 3, j].set_title('A sample')\n",
    "    \n",
    "    ax[i * 3 + 1, j].imshow(\n",
    "        X_rec[j, 0],\n",
    "        interpolation='None', cmap=plt.cm.gray_r, vmin=0.0, vmax=1.0\n",
    "    )\n",
    "    ax[i * 3 + 1, j].set_title('Reconstructed')\n",
    "    \n",
    "    \n",
    "    ax[i * 3 + 2, j].imshow(\n",
    "        codes[j].reshape(n_codes_side, n_codes_side),\n",
    "        interpolation='None', cmap=plt.cm.viridis, vmin=0.0, vmax=np.max(codes)\n",
    "    )\n",
    "    ax[i * 3 + 2, j].set_title('Code space')\n",
    "\n",
    "fig.tight_layout()\n",
    "plt.show()"
   ]
  },
  {
   "cell_type": "code",
   "execution_count": null,
   "metadata": {
    "collapsed": false
   },
   "outputs": [],
   "source": [
    "code_test = cae.encode(X_test)"
   ]
  },
  {
   "cell_type": "code",
   "execution_count": null,
   "metadata": {
    "collapsed": true
   },
   "outputs": [],
   "source": [
    "max_code = np.max(code_test)"
   ]
  },
  {
   "cell_type": "code",
   "execution_count": null,
   "metadata": {
    "collapsed": false,
    "scrolled": false
   },
   "outputs": [],
   "source": [
    "fig, ax = plt.subplots(n_codes_side, n_codes_side, figsize=(12, 12))\n",
    "\n",
    "for i, j in itertools.product(range(n_codes_side), range(n_codes_side)):\n",
    "    fn = i * 4 + j\n",
    "    ax[i, j].hist(code_test[:, fn], bins=20, log=True)\n",
    "\n",
    "plt.show()"
   ]
  },
  {
   "cell_type": "code",
   "execution_count": null,
   "metadata": {
    "collapsed": false,
    "scrolled": false
   },
   "outputs": [],
   "source": [
    "import itertools\n",
    "\n",
    "nrows, ncols = 7, 7\n",
    "\n",
    "codes = np.random.uniform(size=(nrows, ncols, n_codes)).astype('float32') * max_code\n",
    "X_rec = cae.decode(codes.reshape(-1, n_codes)).reshape(nrows, ncols, 28, 28)\n",
    "\n",
    "fig, ax = plt.subplots(nrows * 2, ncols, figsize=((ncols + 1) * 2, (nrows + 2) * 3))\n",
    "\n",
    "for i, j in itertools.product(range(nrows), range(ncols)):\n",
    "    ax[i * 2, j].imshow(\n",
    "        X_rec[i, j],\n",
    "        interpolation='None', cmap=plt.cm.gray_r, vmin=0.0, vmax=1.0\n",
    "    )\n",
    "    \n",
    "    ax[i * 2 + 1, j].imshow(\n",
    "        codes[i, j].reshape(n_codes_side, n_codes_side),\n",
    "        interpolation='None', cmap=plt.cm.viridis, vmin=0.0, vmax=max_code\n",
    "    )\n",
    "\n",
    "plt.show()"
   ]
  },
  {
   "cell_type": "code",
   "execution_count": null,
   "metadata": {
    "collapsed": false,
    "scrolled": false
   },
   "outputs": [],
   "source": [
    "import itertools\n",
    "\n",
    "m = 11\n",
    "\n",
    "alpha = np.linspace(0.0, 1.0, num=m)\n",
    "\n",
    "for i in range(5):\n",
    "    indx1, indx2 = np.random.choice(X_test.shape[0], size=2, replace=False)\n",
    "\n",
    "    code1 = cae.encode(X_test[indx1].reshape(-1, 1, 28, 28))\n",
    "    code2 = cae.encode(X_test[indx2].reshape(-1, 1, 28, 28))\n",
    "    \n",
    "    fig, ax = plt.subplots(1, 2, figsize=(4, 2), squeeze=True)\n",
    "    ax[0].imshow(\n",
    "        X_test[indx1, 0],\n",
    "        interpolation='None', cmap=plt.cm.gray_r, vmin=0.0, vmax=1.0\n",
    "    )\n",
    "    \n",
    "    ax[1].imshow(\n",
    "        X_test[indx2, 0],\n",
    "        interpolation='None', cmap=plt.cm.gray_r, vmin=0.0, vmax=1.0\n",
    "    )\n",
    "    plt.show()\n",
    "    \n",
    "    fig, ax = plt.subplots(2, m, figsize=((m + 1) * 3, 7), squeeze=False)\n",
    "    \n",
    "    for j in range(m):\n",
    "        code = (1.0 - alpha[j]) * code1 + alpha[j] * code2\n",
    "        X_merged = cae.decode(code)\n",
    "        \n",
    "        ax[0, j].imshow(\n",
    "            X_merged[0, 0],\n",
    "            interpolation='None', cmap=plt.cm.gray_r, vmin=0.0, vmax=1.0\n",
    "        )\n",
    "    \n",
    "    for j in range(m):\n",
    "        X_merged = (1.0 - alpha[j]) * X_test[indx1] + alpha[j] * X_test[indx2]\n",
    "        \n",
    "        ax[1, j].imshow(\n",
    "            X_merged[0],\n",
    "            interpolation='None', cmap=plt.cm.gray_r, vmin=0.0, vmax=1.0\n",
    "        )\n",
    "    \n",
    "    plt.show()"
   ]
  },
  {
   "cell_type": "code",
   "execution_count": null,
   "metadata": {
    "collapsed": true
   },
   "outputs": [],
   "source": []
  }
 ],
 "metadata": {
  "kernelspec": {
   "display_name": "Python 2",
   "language": "python",
   "name": "python2"
  },
  "language_info": {
   "codemirror_mode": {
    "name": "ipython",
    "version": 2
   },
   "file_extension": ".py",
   "mimetype": "text/x-python",
   "name": "python",
   "nbconvert_exporter": "python",
   "pygments_lexer": "ipython2",
   "version": "2.7.12"
  }
 },
 "nbformat": 4,
 "nbformat_minor": 0
}
